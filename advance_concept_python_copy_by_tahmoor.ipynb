{
  "nbformat": 4,
  "nbformat_minor": 0,
  "metadata": {
    "colab": {
      "provenance": [],
      "include_colab_link": true
    },
    "kernelspec": {
      "name": "python3",
      "display_name": "Python 3"
    },
    "language_info": {
      "name": "python"
    }
  },
  "cells": [
    {
      "cell_type": "markdown",
      "metadata": {
        "id": "view-in-github",
        "colab_type": "text"
      },
      "source": [
        "<a href=\"https://colab.research.google.com/github/Tahmoorshoukat/AI_testing_2025/blob/main/advance_concept_python_copy_by_tahmoor.ipynb\" target=\"_parent\"><img src=\"https://colab.research.google.com/assets/colab-badge.svg\" alt=\"Open In Colab\"/></a>"
      ]
    },
    {
      "cell_type": "code",
      "execution_count": null,
      "metadata": {
        "colab": {
          "base_uri": "https://localhost:8080/"
        },
        "id": "xP6jDGP8cZ2A",
        "outputId": "dcd2cd56-20af-42cc-a99e-a119d70d4732"
      },
      "outputs": [
        {
          "output_type": "stream",
          "name": "stdout",
          "text": [
            "TV turning on...\n",
            "Starting content playback...\n"
          ]
        }
      ],
      "source": [
        "def turn_on_tv()->None:\n",
        "    print(\"TV turning on...\")\n",
        "    print(\"Starting content playback...\")\n",
        "\n",
        "# Using the decorated function\n",
        "turn_on_tv()\n"
      ]
    },
    {
      "cell_type": "code",
      "source": [
        "def smart_home_decorator(func):\n",
        "    def wrapper():\n",
        "        # Before execution\n",
        "        print(\"Adjusting room lighting...\")\n",
        "        print(\"Setting optimal temperature...\")\n",
        "\n",
        "        # Original function execution\n",
        "        func()\n",
        "\n",
        "        # After execution\n",
        "        print(\"Measuring ambient noise...\")\n",
        "        print(\"Adjusting TV volume...\")\n",
        "\n",
        "    return wrapper\n",
        "\n",
        "\n",
        "@smart_home_decorator\n",
        "def turn_on_tv():\n",
        "    print(\"TV turning on...\")\n",
        "    print(\"Starting content playback...\")\n",
        "\n",
        "turn_on_tv()"
      ],
      "metadata": {
        "colab": {
          "base_uri": "https://localhost:8080/"
        },
        "id": "HtPZXTaycprS",
        "outputId": "f0ca96ab-d79b-4cdc-fb5b-8a2c1560f7f5"
      },
      "execution_count": null,
      "outputs": [
        {
          "output_type": "stream",
          "name": "stdout",
          "text": [
            "Adjusting room lighting...\n",
            "Setting optimal temperature...\n",
            "TV turning on...\n",
            "Starting content playback...\n",
            "Measuring ambient noise...\n",
            "Adjusting TV volume...\n"
          ]
        }
      ]
    },
    {
      "cell_type": "code",
      "source": [
        "def log_decorator(func):\n",
        "    def wrapper(*args, **kwargs):\n",
        "        print(f\"Calling function: {func.__name__}\")\n",
        "        result = func(*args, **kwargs)\n",
        "        print(f\"Function {func.__name__} finished execution\")\n",
        "        return result\n",
        "    return wrapper\n",
        "\n",
        "@log_decorator\n",
        "def say_hello(name):\n",
        "    print(f\"Hello, {name}!\")\n",
        "\n",
        "say_hello(\"Muhamad Qasim\")"
      ],
      "metadata": {
        "colab": {
          "base_uri": "https://localhost:8080/"
        },
        "id": "OEN3CImIc_Lb",
        "outputId": "96857ba9-d267-4d3c-ae59-3786cb6eaaa8"
      },
      "execution_count": null,
      "outputs": [
        {
          "output_type": "stream",
          "name": "stdout",
          "text": [
            "Calling function: say_hello\n",
            "Hello, Muhamad Qasim!\n",
            "Function say_hello finished execution\n"
          ]
        }
      ]
    },
    {
      "cell_type": "code",
      "source": [
        "def repeat(num_times):\n",
        "    def decorator(func):\n",
        "        def wrapper(*args, **kwargs):\n",
        "            for _ in range(num_times):\n",
        "                func(*args, **kwargs)\n",
        "        return wrapper\n",
        "    return decorator\n",
        "\n",
        "@repeat(10)\n",
        "def greet(name):\n",
        "    print(f\"Hi {name}!\")\n",
        "\n",
        "greet(\"Muhammad Qasim\")"
      ],
      "metadata": {
        "colab": {
          "base_uri": "https://localhost:8080/"
        },
        "id": "3xeqS5sZf60t",
        "outputId": "472f2ff9-c17f-4ec8-e221-015a1635d0cf"
      },
      "execution_count": null,
      "outputs": [
        {
          "output_type": "stream",
          "name": "stdout",
          "text": [
            "Hi Muhammad Qasim!\n",
            "Hi Muhammad Qasim!\n",
            "Hi Muhammad Qasim!\n",
            "Hi Muhammad Qasim!\n",
            "Hi Muhammad Qasim!\n",
            "Hi Muhammad Qasim!\n",
            "Hi Muhammad Qasim!\n",
            "Hi Muhammad Qasim!\n",
            "Hi Muhammad Qasim!\n",
            "Hi Muhammad Qasim!\n"
          ]
        }
      ]
    },
    {
      "cell_type": "code",
      "source": [
        "class LogDecorator:\n",
        "    def __init__(self, func):\n",
        "        self.func = func\n",
        "\n",
        "    def __call__(self, *args, **kwargs):\n",
        "        print(f\"Calling {self.func.__name__}\")\n",
        "        result = self.func(*args, **kwargs)\n",
        "        print(f\"{self.func.__name__} finished execution\")\n",
        "        return result\n",
        "\n",
        "@LogDecorator\n",
        "def say_hello(name):\n",
        "    print(f\"Hello, {name}!\")\n",
        "\n",
        "say_hello(\"Alice\")"
      ],
      "metadata": {
        "colab": {
          "base_uri": "https://localhost:8080/"
        },
        "id": "EhVPIZJMgh2T",
        "outputId": "75d90bcc-1c1e-4e41-f8dc-af07c116c9c3"
      },
      "execution_count": null,
      "outputs": [
        {
          "output_type": "stream",
          "name": "stdout",
          "text": [
            "Calling say_hello\n",
            "Hello, Alice!\n",
            "say_hello finished execution\n"
          ]
        }
      ]
    },
    {
      "cell_type": "code",
      "source": [
        "print('1','b','c', end='\\n', sep='\\n')"
      ],
      "metadata": {
        "colab": {
          "base_uri": "https://localhost:8080/"
        },
        "id": "DpPMAbEpfVy6",
        "outputId": "e811c3d5-4658-453e-bf33-24504d070074"
      },
      "execution_count": null,
      "outputs": [
        {
          "output_type": "stream",
          "name": "stdout",
          "text": [
            "1\n",
            "b\n",
            "c\n"
          ]
        }
      ]
    },
    {
      "cell_type": "code",
      "source": [
        "class MyClass():\n",
        "  def __init__(self,name,age):\n",
        "    self.name = name\n",
        "    self.age = age\n",
        "    self.cnic = None\n",
        "\n",
        "  def teaching(self):\n",
        "    print(\"Teacher is teaching\")\n",
        "\n",
        "\n",
        "obj1 = MyClass(\"Muhammad Qasim\", 30)\n",
        "obj1.teaching()\n",
        "print(obj1.name)"
      ],
      "metadata": {
        "colab": {
          "base_uri": "https://localhost:8080/"
        },
        "id": "XuSRl9vlfg21",
        "outputId": "34c841e8-a594-4be3-90a2-51c45907f750"
      },
      "execution_count": null,
      "outputs": [
        {
          "output_type": "stream",
          "name": "stdout",
          "text": [
            "Teacher is teaching\n",
            "Muhammad Qasim\n"
          ]
        }
      ]
    },
    {
      "cell_type": "code",
      "source": [
        "obj1"
      ],
      "metadata": {
        "colab": {
          "base_uri": "https://localhost:8080/"
        },
        "id": "_4Sbs6ZFhNYe",
        "outputId": "02e87360-0fef-43c5-f258-60450c4794d8"
      },
      "execution_count": null,
      "outputs": [
        {
          "output_type": "execute_result",
          "data": {
            "text/plain": [
              "<__main__.MyClass at 0x7c0aee268e50>"
            ]
          },
          "metadata": {},
          "execution_count": 14
        }
      ]
    },
    {
      "cell_type": "code",
      "source": [
        "list(dir(obj1))"
      ],
      "metadata": {
        "colab": {
          "base_uri": "https://localhost:8080/"
        },
        "id": "e6fXrz-dh9F0",
        "outputId": "014132b2-d282-4af5-bb80-dcaa05c602a5"
      },
      "execution_count": null,
      "outputs": [
        {
          "output_type": "execute_result",
          "data": {
            "text/plain": [
              "['__class__',\n",
              " '__delattr__',\n",
              " '__dict__',\n",
              " '__dir__',\n",
              " '__doc__',\n",
              " '__eq__',\n",
              " '__format__',\n",
              " '__ge__',\n",
              " '__getattribute__',\n",
              " '__getstate__',\n",
              " '__gt__',\n",
              " '__hash__',\n",
              " '__init__',\n",
              " '__init_subclass__',\n",
              " '__le__',\n",
              " '__lt__',\n",
              " '__module__',\n",
              " '__ne__',\n",
              " '__new__',\n",
              " '__reduce__',\n",
              " '__reduce_ex__',\n",
              " '__repr__',\n",
              " '__setattr__',\n",
              " '__sizeof__',\n",
              " '__str__',\n",
              " '__subclasshook__',\n",
              " '__weakref__',\n",
              " 'age',\n",
              " 'cnic',\n",
              " 'name',\n",
              " 'teaching']"
            ]
          },
          "metadata": {},
          "execution_count": 16
        }
      ]
    },
    {
      "cell_type": "code",
      "source": [
        "# prompt: create simple example of __format__\n",
        "\n",
        "class Person:\n",
        "    def __init__(self, name, age):\n",
        "        self.name = name\n",
        "        self.age = age\n",
        "\n",
        "    def __format__(self, format_spec):\n",
        "        if format_spec == \"short\":\n",
        "            return f\"{self.name} ({self.age})\"\n",
        "        elif format_spec == \"long\":\n",
        "            return f\"Name: {self.name}, Age: {self.age}\"\n",
        "        else:\n",
        "            return str(self)  # Default string representation\n",
        "\n",
        "\n",
        "person = Person(\"Muhammad Qasim\", 30)\n",
        "\n",
        "print(format(person, \"short\"))  # Output: Alice (30)\n",
        "print(format(person, \"long\"))  # Output: Name: Alice, Age: 30\n",
        "print(person) # Output: <__main__.Person object at ...>\n",
        "print(f\"{person}\") # Output: <__main__.Person object at ...>\n",
        "\n"
      ],
      "metadata": {
        "colab": {
          "base_uri": "https://localhost:8080/"
        },
        "id": "xiw2Pi2JhxkN",
        "outputId": "f7e27f1b-77bc-421f-dfa6-0ac2c89bf110"
      },
      "execution_count": null,
      "outputs": [
        {
          "output_type": "stream",
          "name": "stdout",
          "text": [
            "Muhammad Qasim (30)\n",
            "Name: Muhammad Qasim, Age: 30\n",
            "<__main__.Person object at 0x7c0b08de3150>\n",
            "<__main__.Person object at 0x7c0b08de3150>\n"
          ]
        }
      ]
    },
    {
      "cell_type": "code",
      "source": [
        "class MyClass():\n",
        "  def __init__(self,name,age):\n",
        "    self.name = name\n",
        "    self.age = age\n",
        "    self.cnic = None\n",
        "\n",
        "  def teaching(self):\n",
        "    print(\"Teacher is teaching\")\n",
        "\n",
        "\n",
        "obj1 = MyClass(\"Muhammad Qasim\", 30)\n",
        "obj1()"
      ],
      "metadata": {
        "colab": {
          "base_uri": "https://localhost:8080/",
          "height": 176
        },
        "id": "hSAtZy0KidTn",
        "outputId": "b8b75667-6cdc-43e1-f642-18a823f77aa6"
      },
      "execution_count": null,
      "outputs": [
        {
          "output_type": "error",
          "ename": "TypeError",
          "evalue": "'MyClass' object is not callable",
          "traceback": [
            "\u001b[0;31m---------------------------------------------------------------------------\u001b[0m",
            "\u001b[0;31mTypeError\u001b[0m                                 Traceback (most recent call last)",
            "\u001b[0;32m<ipython-input-19-8e430c0791e1>\u001b[0m in \u001b[0;36m<cell line: 0>\u001b[0;34m()\u001b[0m\n\u001b[1;32m     10\u001b[0m \u001b[0;34m\u001b[0m\u001b[0m\n\u001b[1;32m     11\u001b[0m \u001b[0mobj1\u001b[0m \u001b[0;34m=\u001b[0m \u001b[0mMyClass\u001b[0m\u001b[0;34m(\u001b[0m\u001b[0;34m\"Muhammad Qasim\"\u001b[0m\u001b[0;34m,\u001b[0m \u001b[0;36m30\u001b[0m\u001b[0;34m)\u001b[0m\u001b[0;34m\u001b[0m\u001b[0;34m\u001b[0m\u001b[0m\n\u001b[0;32m---> 12\u001b[0;31m \u001b[0mobj1\u001b[0m\u001b[0;34m(\u001b[0m\u001b[0;34m)\u001b[0m\u001b[0;34m\u001b[0m\u001b[0;34m\u001b[0m\u001b[0m\n\u001b[0m",
            "\u001b[0;31mTypeError\u001b[0m: 'MyClass' object is not callable"
          ]
        }
      ]
    },
    {
      "cell_type": "code",
      "source": [
        "class MyClass():\n",
        "  def __init__(self,name,age):\n",
        "    self.name = name\n",
        "    self.age = age\n",
        "    self.cnic = None\n",
        "    self.my_salary = 10000\n",
        "\n",
        "  def teaching(self):\n",
        "    print(\"Teacher is teaching\")\n",
        "\n",
        "  def __call__(self,inc=1000):\n",
        "    self.my_salary += inc\n",
        "    print(f\"My new salary is {self.my_salary}\")\n",
        "\n",
        "\n",
        "obj1 = MyClass(\"Muhammad Qasim\", 30)\n",
        "obj1()\n",
        "obj1()\n",
        "obj1(3000)"
      ],
      "metadata": {
        "colab": {
          "base_uri": "https://localhost:8080/"
        },
        "id": "7P_yEjFqig6z",
        "outputId": "60b3ea42-c45e-4de3-9ecf-4cdcb86e202e"
      },
      "execution_count": null,
      "outputs": [
        {
          "output_type": "stream",
          "name": "stdout",
          "text": [
            "My new salary is 11000\n",
            "My new salary is 12000\n",
            "My new salary is 15000\n"
          ]
        }
      ]
    },
    {
      "cell_type": "code",
      "source": [
        "1 / 0"
      ],
      "metadata": {
        "colab": {
          "base_uri": "https://localhost:8080/",
          "height": 141
        },
        "id": "57djwrMjjKD9",
        "outputId": "3293d733-d76e-44ef-aa84-bc4dec645963"
      },
      "execution_count": null,
      "outputs": [
        {
          "output_type": "error",
          "ename": "ZeroDivisionError",
          "evalue": "division by zero",
          "traceback": [
            "\u001b[0;31m---------------------------------------------------------------------------\u001b[0m",
            "\u001b[0;31mZeroDivisionError\u001b[0m                         Traceback (most recent call last)",
            "\u001b[0;32m<ipython-input-23-bc757c3fda29>\u001b[0m in \u001b[0;36m<cell line: 0>\u001b[0;34m()\u001b[0m\n\u001b[0;32m----> 1\u001b[0;31m \u001b[0;36m1\u001b[0m \u001b[0;34m/\u001b[0m \u001b[0;36m0\u001b[0m\u001b[0;34m\u001b[0m\u001b[0;34m\u001b[0m\u001b[0m\n\u001b[0m",
            "\u001b[0;31mZeroDivisionError\u001b[0m: division by zero"
          ]
        }
      ]
    },
    {
      "cell_type": "code",
      "source": [
        "open(\"abc.txt\")"
      ],
      "metadata": {
        "colab": {
          "base_uri": "https://localhost:8080/",
          "height": 141
        },
        "id": "qvVH2HlujeI5",
        "outputId": "e800ca44-8b20-49a9-d88f-f6ae9cbed632"
      },
      "execution_count": null,
      "outputs": [
        {
          "output_type": "error",
          "ename": "FileNotFoundError",
          "evalue": "[Errno 2] No such file or directory: 'abc.txt'",
          "traceback": [
            "\u001b[0;31m---------------------------------------------------------------------------\u001b[0m",
            "\u001b[0;31mFileNotFoundError\u001b[0m                         Traceback (most recent call last)",
            "\u001b[0;32m<ipython-input-24-befa419cc814>\u001b[0m in \u001b[0;36m<cell line: 0>\u001b[0;34m()\u001b[0m\n\u001b[0;32m----> 1\u001b[0;31m \u001b[0mopen\u001b[0m\u001b[0;34m(\u001b[0m\u001b[0;34m\"abc.txt\"\u001b[0m\u001b[0;34m)\u001b[0m\u001b[0;34m\u001b[0m\u001b[0;34m\u001b[0m\u001b[0m\n\u001b[0m",
            "\u001b[0;31mFileNotFoundError\u001b[0m: [Errno 2] No such file or directory: 'abc.txt'"
          ]
        }
      ]
    },
    {
      "cell_type": "code",
      "source": [
        "# prompt: create custom error class simple example\n",
        "\n",
        "class InvalidInputError(Exception):\n",
        "    \"\"\"Custom exception for invalid input.\"\"\"\n",
        "    pass\n",
        "\n",
        "def process_data(data):\n",
        "    if not isinstance(data, int):\n",
        "        raise InvalidInputError(\"Please enter intiger number here.\")\n",
        "    # ... further processing ...\n",
        "    print(\"Data processed successfully.\")\n",
        "try:\n",
        "    process_data(\"abc\")  # This will raise the custom exception\n",
        "except InvalidInputError as e:\n",
        "    print(f\"Error: {e}\")\n"
      ],
      "metadata": {
        "colab": {
          "base_uri": "https://localhost:8080/"
        },
        "id": "T_cvUYqHjg6P",
        "outputId": "9439dd30-ee62-4aec-e83b-619c99b9fc4f"
      },
      "execution_count": null,
      "outputs": [
        {
          "output_type": "stream",
          "name": "stdout",
          "text": [
            "Error: Please enter intiger number here.\n"
          ]
        }
      ]
    },
    {
      "cell_type": "code",
      "source": [
        "process_data(\"abc\")"
      ],
      "metadata": {
        "colab": {
          "base_uri": "https://localhost:8080/",
          "height": 263
        },
        "id": "wMKm2iR_kOp-",
        "outputId": "8ac1db88-fcdf-4ac4-e41b-70b4977f31e6"
      },
      "execution_count": null,
      "outputs": [
        {
          "output_type": "error",
          "ename": "InvalidInputError",
          "evalue": "Please enter intiger number here.",
          "traceback": [
            "\u001b[0;31m---------------------------------------------------------------------------\u001b[0m",
            "\u001b[0;31mInvalidInputError\u001b[0m                         Traceback (most recent call last)",
            "\u001b[0;32m<ipython-input-27-0a4736930c9b>\u001b[0m in \u001b[0;36m<cell line: 0>\u001b[0;34m()\u001b[0m\n\u001b[0;32m----> 1\u001b[0;31m \u001b[0mprocess_data\u001b[0m\u001b[0;34m(\u001b[0m\u001b[0;34m\"abc\"\u001b[0m\u001b[0;34m)\u001b[0m\u001b[0;34m\u001b[0m\u001b[0;34m\u001b[0m\u001b[0m\n\u001b[0m",
            "\u001b[0;32m<ipython-input-26-30f048a470fb>\u001b[0m in \u001b[0;36mprocess_data\u001b[0;34m(data)\u001b[0m\n\u001b[1;32m      7\u001b[0m \u001b[0;32mdef\u001b[0m \u001b[0mprocess_data\u001b[0m\u001b[0;34m(\u001b[0m\u001b[0mdata\u001b[0m\u001b[0;34m)\u001b[0m\u001b[0;34m:\u001b[0m\u001b[0;34m\u001b[0m\u001b[0;34m\u001b[0m\u001b[0m\n\u001b[1;32m      8\u001b[0m     \u001b[0;32mif\u001b[0m \u001b[0;32mnot\u001b[0m \u001b[0misinstance\u001b[0m\u001b[0;34m(\u001b[0m\u001b[0mdata\u001b[0m\u001b[0;34m,\u001b[0m \u001b[0mint\u001b[0m\u001b[0;34m)\u001b[0m\u001b[0;34m:\u001b[0m\u001b[0;34m\u001b[0m\u001b[0;34m\u001b[0m\u001b[0m\n\u001b[0;32m----> 9\u001b[0;31m         \u001b[0;32mraise\u001b[0m \u001b[0mInvalidInputError\u001b[0m\u001b[0;34m(\u001b[0m\u001b[0;34m\"Please enter intiger number here.\"\u001b[0m\u001b[0;34m)\u001b[0m\u001b[0;34m\u001b[0m\u001b[0;34m\u001b[0m\u001b[0m\n\u001b[0m\u001b[1;32m     10\u001b[0m     \u001b[0;31m# ... further processing ...\u001b[0m\u001b[0;34m\u001b[0m\u001b[0;34m\u001b[0m\u001b[0m\n\u001b[1;32m     11\u001b[0m     \u001b[0mprint\u001b[0m\u001b[0;34m(\u001b[0m\u001b[0;34m\"Data processed successfully.\"\u001b[0m\u001b[0;34m)\u001b[0m\u001b[0;34m\u001b[0m\u001b[0;34m\u001b[0m\u001b[0m\n",
            "\u001b[0;31mInvalidInputError\u001b[0m: Please enter intiger number here."
          ]
        }
      ]
    },
    {
      "cell_type": "code",
      "source": [
        "# prompt: __add__ create simple example\n",
        "\n",
        "class MyNumber:\n",
        "    def __init__(self, value):\n",
        "        self.value = value\n",
        "\n",
        "    def __add__(self, other):\n",
        "        if isinstance(other, MyNumber):\n",
        "            return MyNumber(self.value + other.value)\n",
        "        elif isinstance(other, int):\n",
        "            return MyNumber(self.value + other)\n",
        "        else:\n",
        "            return NotImplemented  # Indicate that the operation is not supported\n",
        "\n",
        "# Example usage\n",
        "num1 = MyNumber(5)\n",
        "num2 = MyNumber(10)\n",
        "\n",
        "result1 = num1 + num2  # Adding two MyNumber objects\n",
        "print(result1.value)  # Output: 15\n",
        "\n",
        "result2 = num1 + 3  # Adding a MyNumber object and an integer\n",
        "print(result2.value)  # Output: 8\n",
        "\n",
        "#result3 = num1 + \"abc\"  # This will return NotImplemented\n",
        "#print(result3.value)\n"
      ],
      "metadata": {
        "colab": {
          "base_uri": "https://localhost:8080/"
        },
        "id": "masHlnJ-kPAd",
        "outputId": "c8a927ce-ed5a-4439-af01-069e5051d647"
      },
      "execution_count": null,
      "outputs": [
        {
          "output_type": "stream",
          "name": "stdout",
          "text": [
            "15\n",
            "8\n"
          ]
        }
      ]
    },
    {
      "cell_type": "code",
      "source": [
        "obj1.__dict__"
      ],
      "metadata": {
        "colab": {
          "base_uri": "https://localhost:8080/"
        },
        "id": "6ClhigN5k6Iz",
        "outputId": "482e6244-835d-47a6-f8d6-c9fbaccb937e"
      },
      "execution_count": null,
      "outputs": [
        {
          "output_type": "execute_result",
          "data": {
            "text/plain": [
              "{'name': 'Muhammad Qasim', 'age': 30, 'cnic': None, 'my_salary': 15000}"
            ]
          },
          "metadata": {},
          "execution_count": 29
        }
      ]
    },
    {
      "cell_type": "code",
      "source": [],
      "metadata": {
        "id": "BDufQITRk-Tf"
      },
      "execution_count": null,
      "outputs": []
    },
    {
      "cell_type": "code",
      "source": [
        "import pytest\n",
        "from io import StringIO\n",
        "from unittest.mock import patch\n",
        "from your_program import get_name  # Adjust the import based on your file name.\n",
        "\n",
        "def test_valid_name():\n",
        "    # Simulate valid input\n",
        "    with patch(\"builtins.input\", return_value=\"John\"):\n",
        "        result = get_name()\n",
        "    assert result == \"John\"\n",
        "\n",
        "def test_invalid_name_with_numbers():\n",
        "    # Simulate invalid input (name contains numbers)\n",
        "    with patch(\"builtins.input\", return_value=\"John123\"):\n",
        "        with pytest.raises(ValueError):\n",
        "            get_name()\n",
        "\n",
        "def test_invalid_name_empty():\n",
        "    # Simulate an empty name input\n",
        "    with patch(\"builtins.input\", return_value=\"\"):\n",
        "        with pytest.raises(ValueError):\n",
        "            get_name()\n"
      ],
      "metadata": {
        "id": "pWvZPdJsKlbn"
      },
      "execution_count": null,
      "outputs": []
    }
  ]
}